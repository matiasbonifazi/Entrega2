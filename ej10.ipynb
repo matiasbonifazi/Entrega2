{
 "cells": [
  {
   "cell_type": "markdown",
   "metadata": {},
   "source": [
    "## **<span style=\"font-size: 25px;\">Entrega número 2 de Python</span>**\n",
    "**Ejercicio 10**"
   ]
  },
  {
   "cell_type": "code",
   "execution_count": 1,
   "metadata": {},
   "outputs": [],
   "source": [
    "from modulo.funciones import *"
   ]
  },
  {
   "cell_type": "markdown",
   "metadata": {},
   "source": [
    "<span style=\"font-size: 15px;\">Se dispone de las estructuras de datos con la información de los jugadores</span>\n",
    "- <span style=\"font-size: 15px;\">String de nombres</span>\n",
    "- <span style=\"font-size: 15px;\">Lista de goles de cada jugador</span>\n",
    "- <span style=\"font-size: 15px;\">Lista de goles evitados de cada jugador</span>\n",
    "- <span style=\"font-size: 15px;\">Lista de asistencias de cada jugador</span>"
   ]
  },
  {
   "cell_type": "code",
   "execution_count": 2,
   "metadata": {},
   "outputs": [],
   "source": [
    "names = \"\"\"Agustin, Yanina, Andrés, Ariadna, Bautista, CAROLINA,\n",
    "CESAR, David, Diego, Dolores, DYLAN, ELIANA, Emanuel, Fabián, Noelia,\n",
    "Francisca, FEDERICO, Fernanda, GONZALO, Nancy\"\"\"\n",
    "goals = [0, 10, 4, 0, 5, 14, 0, 0, 7, 2, 1, 1, 1, 5, 6, 1, 1, 2, 0, 11]\n",
    "goals_avoided = [0, 2, 0, 0, 5, 2, 0, 0, 1, 2, 0, 5, 5, 0, 1, 0, 2, 3, 0, 0]\n",
    "assists = [0, 5, 1, 0, 5, 2, 0, 0, 1, 2, 1, 5, 5, 0, 1, 0, 2, 3, 1, 0]\n",
    "cant_partidos = 25"
   ]
  },
  {
   "cell_type": "markdown",
   "metadata": {},
   "source": [
    "1. <span style=\"font-size: 15px;\">Generar una estructura de todas las estadísticas asociadas a cada jugador o jugadora</span>"
   ]
  },
  {
   "cell_type": "code",
   "execution_count": null,
   "metadata": {},
   "outputs": [],
   "source": [
    "estructura = generar_estructura(names,goals,goals_avoided,assists)\n",
    "print(estructura)"
   ]
  },
  {
   "cell_type": "markdown",
   "metadata": {},
   "source": [
    "2. <span style=\"font-size: 15px;\">Conocer el nombre y la cantidad de goles del goleador o goleadora</span>"
   ]
  },
  {
   "cell_type": "code",
   "execution_count": null,
   "metadata": {},
   "outputs": [],
   "source": [
    "goleador = conocer_goleador(estructura)\n",
    "print(f'El nombre del goleador es {goleador[0]} y marcó un total de {goleador[1][0]} goles')"
   ]
  },
  {
   "cell_type": "markdown",
   "metadata": {},
   "source": [
    "3. <span style=\"font-size: 15px;\">Conocer el nombre del jugador o jugadora más influyente</span>"
   ]
  },
  {
   "cell_type": "code",
   "execution_count": null,
   "metadata": {},
   "outputs": [],
   "source": [
    "jugador_mas_influyente = conocer_mas_influyente(estructura)\n",
    "print(jugador_mas_influyente)\n",
    "print(f'El jugador más influyente fue {jugador_mas_influyente[0]} con un total de {jugador_mas_influyente[1]} puntos')"
   ]
  },
  {
   "cell_type": "markdown",
   "metadata": {},
   "source": [
    "4. <span style=\"font-size: 15px;\">Conocer el promedio de goles por partido del equipo en general</span>"
   ]
  },
  {
   "cell_type": "code",
   "execution_count": null,
   "metadata": {},
   "outputs": [],
   "source": [
    "promedio_goles_equipo = calcular_promedio_equipo(estructura,cant_partidos)\n",
    "print(f'El promedio de goles por partido del equipo en general fue de {promedio_goles_equipo}')"
   ]
  },
  {
   "cell_type": "markdown",
   "metadata": {},
   "source": [
    "5. <span style=\"font-size: 15px;\">Conocer el promedio de goles por partido del goleador o goleadora</span>"
   ]
  },
  {
   "cell_type": "code",
   "execution_count": null,
   "metadata": {},
   "outputs": [],
   "source": [
    "promedio_goles_jugador = calcular_promedio_jugador(goleador[1][0],cant_partidos)\n",
    "print(f'El promedio de goles por partido del goleador fue de {promedio_goles_jugador}')"
   ]
  }
 ],
 "metadata": {
  "kernelspec": {
   "display_name": "venv",
   "language": "python",
   "name": "python3"
  },
  "language_info": {
   "codemirror_mode": {
    "name": "ipython",
    "version": 3
   },
   "file_extension": ".py",
   "mimetype": "text/x-python",
   "name": "python",
   "nbconvert_exporter": "python",
   "pygments_lexer": "ipython3",
   "version": "3.12.2"
  }
 },
 "nbformat": 4,
 "nbformat_minor": 2
}
